{
 "cells": [
  {
   "cell_type": "code",
   "execution_count": 3,
   "metadata": {},
   "outputs": [
    {
     "name": "stderr",
     "output_type": "stream",
     "text": [
      "Intel(R) Extension for Scikit-learn* enabled (https://github.com/intel/scikit-learn-intelex)\n"
     ]
    },
    {
     "data": {
      "text/plain": [
       "0"
      ]
     },
     "execution_count": 3,
     "metadata": {},
     "output_type": "execute_result"
    }
   ],
   "source": [
    "from sklearnex import patch_sklearn\n",
    "patch_sklearn()\n",
    "import sys\n",
    "sys.path.append('..')\n",
    "import numpy as np\n",
    "import matplotlib.pyplot as plt\n",
    "from sklearn.svm import SVC\n",
    "from sklearn.model_selection import train_test_split\n",
    "from sklearn.metrics import classification_report\n",
    "from sklearn.model_selection import KFold\n",
    "from sklearn.model_selection import cross_val_score\n",
    "from sklearn.model_selection import StratifiedKFold\n",
    "from sklearn.neural_network import MLPClassifier\n",
    "import pandas as pd\n",
    "import pathlib\n",
    "import gc\n",
    "gc.collect()"
   ]
  },
  {
   "cell_type": "code",
   "execution_count": 4,
   "metadata": {},
   "outputs": [],
   "source": [
    "x = np.load('../dados/Hypercellularity/13.1-final_dataset_200x200_axissumm/x.npy')\n",
    "y = np.load('../dados/Hypercellularity/13.1-final_dataset_200x200_axissumm/y.npy')\n",
    "y = y.ravel()\n"
   ]
  },
  {
   "cell_type": "code",
   "execution_count": 116,
   "metadata": {},
   "outputs": [
    {
     "data": {
      "text/plain": [
       "(811, 4320)"
      ]
     },
     "execution_count": 116,
     "metadata": {},
     "output_type": "execute_result"
    }
   ],
   "source": [
    "x.shape"
   ]
  },
  {
   "cell_type": "code",
   "execution_count": 22,
   "metadata": {},
   "outputs": [
    {
     "data": {
      "text/plain": [
       "(array([-1,  1], dtype=int64), array([511, 300], dtype=int64))"
      ]
     },
     "execution_count": 22,
     "metadata": {},
     "output_type": "execute_result"
    }
   ],
   "source": []
  },
  {
   "cell_type": "code",
   "execution_count": 115,
   "metadata": {},
   "outputs": [
    {
     "data": {
      "image/png": "[encoded data removed]",
      "text/plain": [
       "<Figure size 720x576 with 1 Axes>"
      ]
     },
     "metadata": {
      "needs_background": "light"
     },
     "output_type": "display_data"
    }
   ],
   "source": [
    "w, h = np.unique(y, return_counts=True)\n",
    "\n",
    "\n",
    "xlabels = [\n",
    "    'Hipercelularidade',\n",
    "    'Normal'\n",
    "]\n",
    "\n",
    "top_1 = h\n",
    "\n",
    "N = len(h)\n",
    "ind = np.arange(N)  # the x locations for the groups\n",
    "# major_ticks = np.arange(-0.5, 2.5, 0.10)\n",
    "# minor_ticks = np.arange(-0.5, 2.5, 0.05)\n",
    "width = 0.5      # the width of the bars\n",
    "fig, ax = plt.subplots(figsize=(10,8))\n",
    "rects1 = ax.bar(ind, top_1, width, color='#4198d7',zorder=3)\n",
    "ax.set_xticks(ind )\n",
    "ax.set_xticklabels(xlabels,fontsize=10, rotation=0)\n",
    "# ax.set_xlabel(\"models\", fontsize=12)\n",
    "ax.set_ylabel(\"Acurácia Média %\", fontsize=12)\n",
    "# ax.set_title('Metrics for ML models')\n",
    "ax.grid(zorder=-1, alpha=0.2)\n",
    "# ax.set_xticks(major_ticks)\n",
    "# ax.set_xticks(minor_ticks, minor=True)\n",
    "# ax.set_yticks(major_ticks)\n",
    "# ax.set_yticks(minor_ticks, minor=True)\n",
    "\n",
    "# ax.set_ylim([0,1])\n",
    "\n",
    "# ax.legend(rects1[0],'Accuracy Test')\n",
    "def labelvalue(rects):\n",
    "    for rect in rects:\n",
    "        height = rect.get_height()\n",
    "        ax.text(rect.get_x() + rect.get_width()/2., 1.01*height,\n",
    "        str(height) ,ha='center', va='bottom',fontsize=12)\n",
    "\n",
    "labelvalue(rects1)\n",
    "\n",
    "plt.show()"
   ]
  },
  {
   "cell_type": "code",
   "execution_count": 24,
   "metadata": {},
   "outputs": [
    {
     "name": "stderr",
     "output_type": "stream",
     "text": [
      "c:\\ProgramData\\Anaconda3\\lib\\site-packages\\joblib\\externals\\loky\\process_executor.py:702: UserWarning: A worker stopped while some jobs were given to the executor. This can be caused by a too short worker timeout or by a memory leak.\n",
      "  warnings.warn(\n"
     ]
    },
    {
     "name": "stdout",
     "output_type": "stream",
     "text": [
      "[[0.6748466257668712, 0.7098765432098766, 0.7469135802469136, 0.7160493827160493, 0.7283950617283951], [0.6319018404907976, 0.6296296296296297, 0.6296296296296297, 0.6296296296296297, 0.6296296296296297], [0.6319018404907976, 0.6296296296296297, 0.6296296296296297, 0.6296296296296297, 0.6296296296296297]]\n",
      "[0.7152162387336212, 0.6300840718018633, 0.6300840718018633]\n",
      "2-Fold size train > (649,)\n",
      "2-Fold size test > (162,)\n",
      "2-Fold size test > (array([-1,  1], dtype=int64), array([409, 240], dtype=int64))\n"
     ]
    }
   ],
   "source": [
    "\n",
    "# kernels : {'linear', 'poly', 'rbf', 'sigmoid', 'precomputed'}\n",
    "kernels = ['linear', 'poly', 'rbf']\n",
    "Accuracy = []\n",
    "Accuracy_ = []\n",
    "for kernel in kernels:\n",
    "    model =  SVC(kernel=kernel ,probability=True, random_state=40)\n",
    "    \n",
    "    # Create StratifiedKFold object.\n",
    "    skf = StratifiedKFold(n_splits=5, shuffle=True, random_state=1)\n",
    "    fold_results = []\n",
    "    \n",
    "    for train_index, test_index in skf.split(x, y):\n",
    "\n",
    "        model.fit(x[train_index], y[train_index])\n",
    "        fold_results.append(model.score(x[test_index], y[test_index]))\n",
    "    \n",
    "    Accuracy_.append(fold_results)\n",
    "    Accuracy.append(np.mean(fold_results))\n",
    "\n",
    "print(Accuracy_)   \n",
    "print(Accuracy)\n",
    "print(f'2-Fold size train > {train_index.shape}')\n",
    "print(f'2-Fold size test > {test_index.shape}')\n",
    "print(f'2-Fold size test > {np.unique(y[train_index], return_counts=True)}')"
   ]
  },
  {
   "cell_type": "code",
   "execution_count": null,
   "metadata": {},
   "outputs": [],
   "source": [
    "np.std([])"
   ]
  },
  {
   "cell_type": "code",
   "execution_count": 101,
   "metadata": {},
   "outputs": [
    {
     "data": {
      "image/png": "[encoded data removed]",
      "text/plain": [
       "<Figure size 720x576 with 1 Axes>"
      ]
     },
     "metadata": {
      "needs_background": "light"
     },
     "output_type": "display_data"
    }
   ],
   "source": [
    "\n",
    "top_1 = Accuracy\n",
    "xlabels = ['Linear', 'Polinomial', 'RBF']\n",
    "N = len(Accuracy)\n",
    "ind = np.arange(N)  # the x locations for the groups\n",
    "major_ticks = np.arange(-0.5, 2.5, 0.10)\n",
    "minor_ticks = np.arange(-0.5, 2.5, 0.05)\n",
    "width = 0.5      # the width of the bars\n",
    "fig, ax = plt.subplots(figsize=(10,8))\n",
    "rects1 = ax.bar(ind, top_1, width, color='#4198d7',zorder=3)\n",
    "ax.set_xticks(ind )\n",
    "ax.set_xticklabels(xlabels,fontsize=10, rotation=0)\n",
    "# ax.set_xlabel(\"models\", fontsize=12)\n",
    "ax.set_ylabel(\"Acurácia Média %\", fontsize=12)\n",
    "# ax.set_title('Metrics for ML models')\n",
    "ax.grid(zorder=-1, alpha=0.2)\n",
    "# ax.set_xticks(major_ticks)\n",
    "# ax.set_xticks(minor_ticks, minor=True)\n",
    "ax.set_yticks(major_ticks)\n",
    "ax.set_yticks(minor_ticks, minor=True)\n",
    "\n",
    "ax.set_ylim([0,1])\n",
    "\n",
    "# ax.legend(rects1[0],'Accuracy Test')\n",
    "def labelvalue(rects):\n",
    "    for rect in rects:\n",
    "        height = rect.get_height()\n",
    "        ax.text(rect.get_x() + rect.get_width()/2., 1.01*height,\n",
    "        str(round(height*100,1))+'%' ,ha='center', va='bottom',fontsize=12)\n",
    "\n",
    "labelvalue(rects1)\n",
    "\n",
    "plt.show()"
   ]
  },
  {
   "cell_type": "code",
   "execution_count": 103,
   "metadata": {},
   "outputs": [
    {
     "data": {
      "image/png": "[encoded data removed]",
      "text/plain": [
       "<Figure size 720x576 with 1 Axes>"
      ]
     },
     "metadata": {
      "needs_background": "light"
     },
     "output_type": "display_data"
    }
   ],
   "source": [
    "\n",
    "top_1 = Accuracy\n",
    "xlabels = ['Linear', 'Polinomial', 'RBF']\n",
    "N = len(Accuracy)\n",
    "ind = np.arange(N)  # the x locations for the groups\n",
    "major_ticks = np.arange(-0.5, 2.5, 0.10)\n",
    "minor_ticks = np.arange(-0.5, 2.5, 0.05)\n",
    "width = 0.5      # the width of the bars\n",
    "fig, ax = plt.subplots(figsize=(10,8))\n",
    "rects1 = ax.bar(ind, top_1, width, color='#4198d7',zorder=3)\n",
    "ax.set_xticks(ind )\n",
    "ax.set_xticklabels(xlabels,fontsize=10, rotation=0)\n",
    "# ax.set_xlabel(\"models\", fontsize=12)\n",
    "ax.set_ylabel(\"Acurácia Média %\", fontsize=12)\n",
    "# ax.set_title('Metrics for ML models')\n",
    "ax.grid(zorder=-1, alpha=0.2)\n",
    "# ax.set_xticks(major_ticks)\n",
    "# ax.set_xticks(minor_ticks, minor=True)\n",
    "ax.set_yticks(major_ticks)\n",
    "ax.set_yticks(minor_ticks, minor=True)\n",
    "\n",
    "ax.set_ylim([0,1])\n",
    "\n",
    "# ax.legend(rects1[0],'Accuracy Test')\n",
    "def labelvalue(rects):\n",
    "    for rect in rects:\n",
    "        height = rect.get_height()\n",
    "        ax.text(rect.get_x() + rect.get_width()/2., 1.01*height,\n",
    "        str(round(height*100,1))+'%' ,ha='center', va='bottom',fontsize=12)\n",
    "\n",
    "labelvalue(rects1)\n",
    "\n",
    "plt.show()"
   ]
  },
  {
   "cell_type": "code",
   "execution_count": 123,
   "metadata": {},
   "outputs": [
    {
     "name": "stdout",
     "output_type": "stream",
     "text": [
      "[[0.6380368098159509, 0.6419753086419753, 0.6358024691358025, 0.6728395061728395, 0.6358024691358025], [0.6319018404907976, 0.6481481481481481, 0.6790123456790124, 0.6851851851851852, 0.7037037037037037], [0.5828220858895705, 0.654320987654321, 0.691358024691358, 0.6790123456790124, 0.6975308641975309]]\n",
      "[0.6448913125804742, 0.6695902446413694, 0.6610088616223585]\n",
      "5-Fold size train > (649,)\n",
      "5-Fold size test > (162,)\n"
     ]
    }
   ],
   "source": [
    "\n",
    "hidden_layers = [(100,), (150,100,50),(100,250,250,100,50)]\n",
    "\n",
    "Accuracy = []\n",
    "Accuracy_ = []\n",
    "for hidden_layer_size in hidden_layers:\n",
    "    model =  MLPClassifier(hidden_layer_sizes=hidden_layer_size, random_state=40)\n",
    "    \n",
    "    # Create StratifiedKFold object.\n",
    "    kfold = StratifiedKFold(n_splits=5, shuffle=True, random_state=1)\n",
    "    # kfold = KFold(n_splits=2, shuffle=True, random_state=1)\n",
    "    fold_results = []\n",
    "    \n",
    "    for train_index, test_index in kfold.split(x, y):\n",
    "\n",
    "        model.fit(x[train_index], y[train_index])\n",
    "        fold_results.append(model.score(x[test_index], y[test_index]))\n",
    "    Accuracy_.append(fold_results)\n",
    "    Accuracy.append(np.mean(fold_results))\n",
    "\n",
    "print(Accuracy_)   \n",
    "print(Accuracy)\n",
    "print(f'5-Fold size train > {train_index.shape}')\n",
    "print(f'5-Fold size test > {test_index.shape}')"
   ]
  },
  {
   "cell_type": "code",
   "execution_count": null,
   "metadata": {},
   "outputs": [],
   "source": [
    "np.std([])"
   ]
  },
  {
   "cell_type": "code",
   "execution_count": 122,
   "metadata": {},
   "outputs": [
    {
     "data": {
      "image/png": "[encoded data removed]",
      "text/plain": [
       "<Figure size 720x576 with 1 Axes>"
      ]
     },
     "metadata": {
      "needs_background": "light"
     },
     "output_type": "display_data"
    }
   ],
   "source": [
    "\n",
    "top_1 = Accuracy\n",
    "xlabels = ['(100,)', '(150,100,50)', '(100,250,250,100,50)']\n",
    "N = len(Accuracy)\n",
    "ind = np.arange(N)  # the x locations for the groups\n",
    "major_ticks = np.arange(-0.5, 2.5, 0.10)\n",
    "minor_ticks = np.arange(-0.5, 2.5, 0.05)\n",
    "width = 0.5      # the width of the bars\n",
    "fig, ax = plt.subplots(figsize=(10,8))\n",
    "rects1 = ax.bar(ind, top_1, width, color='#4198d7',zorder=3)\n",
    "ax.set_xticks(ind )\n",
    "ax.set_xticklabels(xlabels,fontsize=10, rotation=0)\n",
    "# ax.set_xlabel(\"models\", fontsize=12)\n",
    "ax.set_ylabel(\"Acurácia Média %\", fontsize=12)\n",
    "# ax.set_title('Metrics for ML models')\n",
    "ax.grid(zorder=-1, alpha=0.2)\n",
    "# ax.set_xticks(major_ticks)\n",
    "# ax.set_xticks(minor_ticks, minor=True)\n",
    "ax.set_yticks(major_ticks)\n",
    "ax.set_yticks(minor_ticks, minor=True)\n",
    "\n",
    "ax.set_ylim([0,1])\n",
    "\n",
    "# ax.legend(rects1[0],'Accuracy Test')\n",
    "def labelvalue(rects):\n",
    "    for rect in rects:\n",
    "        height = rect.get_height()\n",
    "        ax.text(rect.get_x() + rect.get_width()/2., 1.01*height,\n",
    "        str(round(height*100,1))+'%' ,ha='center', va='bottom',fontsize=12)\n",
    "\n",
    "labelvalue(rects1)\n",
    "\n",
    "plt.show()"
   ]
  },
  {
   "cell_type": "code",
   "execution_count": 125,
   "metadata": {},
   "outputs": [
    {
     "data": {
      "image/png": "[encoded data removed]",
      "text/plain": [
       "<Figure size 720x576 with 1 Axes>"
      ]
     },
     "metadata": {
      "needs_background": "light"
     },
     "output_type": "display_data"
    }
   ],
   "source": [
    "\n",
    "top_1 = Accuracy\n",
    "xlabels = ['(100,)', '(150,100,50)', '(100,250,250,100,50)']\n",
    "N = len(Accuracy)\n",
    "ind = np.arange(N)  # the x locations for the groups\n",
    "major_ticks = np.arange(-0.5, 2.5, 0.10)\n",
    "minor_ticks = np.arange(-0.5, 2.5, 0.05)\n",
    "width = 0.5      # the width of the bars\n",
    "fig, ax = plt.subplots(figsize=(10,8))\n",
    "rects1 = ax.bar(ind, top_1, width, color='#4198d7',zorder=3)\n",
    "ax.set_xticks(ind )\n",
    "ax.set_xticklabels(xlabels,fontsize=10, rotation=0)\n",
    "# ax.set_xlabel(\"models\", fontsize=12)\n",
    "ax.set_ylabel(\"Acurácia Média %\", fontsize=12)\n",
    "# ax.set_title('Metrics for ML models')\n",
    "ax.grid(zorder=-1, alpha=0.2)\n",
    "# ax.set_xticks(major_ticks)\n",
    "# ax.set_xticks(minor_ticks, minor=True)\n",
    "ax.set_yticks(major_ticks)\n",
    "ax.set_yticks(minor_ticks, minor=True)\n",
    "\n",
    "ax.set_ylim([0,1])\n",
    "\n",
    "# ax.legend(rects1[0],'Accuracy Test')\n",
    "def labelvalue(rects):\n",
    "    for rect in rects:\n",
    "        height = rect.get_height()\n",
    "        ax.text(rect.get_x() + rect.get_width()/2., 1.01*height,\n",
    "        str(round(height*100,1))+'%' ,ha='center', va='bottom',fontsize=12)\n",
    "\n",
    "labelvalue(rects1)\n",
    "\n",
    "plt.show()"
   ]
  },
  {
   "cell_type": "code",
   "execution_count": null,
   "metadata": {},
   "outputs": [],
   "source": []
  },
  {
   "cell_type": "code",
   "execution_count": 16,
   "metadata": {},
   "outputs": [],
   "source": [
    "from sklearn.model_selection import cross_validate\n",
    "def cross_validation(model, _X, _y, _cv=5):\n",
    "      '''Function to perform 5 Folds Cross-Validation\n",
    "       Parameters\n",
    "       ----------\n",
    "      model: Python Class, default=None\n",
    "              This is the machine learning algorithm to be used for training.\n",
    "      _X: array\n",
    "           This is the matrix of features.\n",
    "      _y: array\n",
    "           This is the target variable.\n",
    "      _cv: int, default=5\n",
    "          Determines the number of folds for cross-validation.\n",
    "       Returns\n",
    "       -------\n",
    "       The function returns a dictionary containing the metrics 'accuracy', 'precision',\n",
    "       'recall', 'f1' for both training set and validation set.\n",
    "      '''\n",
    "      _scoring = ['accuracy', 'precision', 'recall', 'f1']\n",
    "      results = cross_validate(estimator=model,\n",
    "                               X=_X,\n",
    "                               y=_y,\n",
    "                               cv=_cv,\n",
    "                               scoring=_scoring,\n",
    "                               return_train_score=True)\n",
    "      \n",
    "      return {\n",
    "               # \"Training Accuracy scores\": results['train_accuracy'],\n",
    "          #     \"Mean Training Accuracy\": results['train_accuracy'].mean()*100,\n",
    "          #     \"Training Precision scores\": results['train_precision'],\n",
    "          #     \"Mean Training Precision\": results['train_precision'].mean(),\n",
    "          #     \"Training Recall scores\": results['train_recall'],\n",
    "          #     \"Mean Training Recall\": results['train_recall'].mean(),\n",
    "          #     \"Training F1 scores\": results['train_f1'],\n",
    "          #     \"Mean Training F1 Score\": results['train_f1'].mean(),\n",
    "              \"Validation Accuracy scores\": results['test_accuracy'].std(),\n",
    "              \"Mean Validation Accuracy\": results['test_accuracy'].mean(),\n",
    "              \"Validation Precision scores\": results['test_precision'].std(),\n",
    "              \"Mean Validation Precision\": results['test_precision'].mean(),\n",
    "              \"Validation Recall scores\": results['test_recall'].std(),\n",
    "              \"Mean Validation Recall\": results['test_recall'].mean(),\n",
    "              \"Validation F1 scores\": results['test_f1'].std(),\n",
    "              \"Mean Validation F1 Score\": results['test_f1'].mean()\n",
    "              }"
   ]
  },
  {
   "cell_type": "code",
   "execution_count": 17,
   "metadata": {},
   "outputs": [],
   "source": [
    "model =  model =  SVC(kernel='linear', probability=True, random_state=40)\n",
    "results_svm = cross_validation(model, x, y, _cv=5)\n",
    "# results_svm = pd.DataFrame(results_svm)"
   ]
  },
  {
   "cell_type": "code",
   "execution_count": 18,
   "metadata": {},
   "outputs": [
    {
     "data": {
      "text/plain": [
       "{'Validation Accuracy scores': 0.03676569646399904,\n",
       " 'Mean Validation Accuracy': 0.7409982579716731,\n",
       " 'Validation Precision scores': 0.05369126538259817,\n",
       " 'Mean Validation Precision': 0.6555787979605293,\n",
       " 'Validation Recall scores': 0.05011098792790968,\n",
       " 'Mean Validation Recall': 0.6399999999999999,\n",
       " 'Validation F1 scores': 0.04494927717669976,\n",
       " 'Mean Validation F1 Score': 0.6466293129472902}"
      ]
     },
     "execution_count": 18,
     "metadata": {},
     "output_type": "execute_result"
    }
   ],
   "source": [
    "results_svm"
   ]
  },
  {
   "cell_type": "code",
   "execution_count": 19,
   "metadata": {},
   "outputs": [
    {
     "name": "stderr",
     "output_type": "stream",
     "text": [
      "c:\\ProgramData\\Anaconda3\\lib\\site-packages\\sklearn\\metrics\\_classification.py:1248: UndefinedMetricWarning: Precision is ill-defined and being set to 0.0 due to no predicted samples. Use `zero_division` parameter to control this behavior.\n",
      "  _warn_prf(average, modifier, msg_start, len(result))\n",
      "c:\\ProgramData\\Anaconda3\\lib\\site-packages\\sklearn\\metrics\\_classification.py:1248: UndefinedMetricWarning: Precision is ill-defined and being set to 0.0 due to no predicted samples. Use `zero_division` parameter to control this behavior.\n",
      "  _warn_prf(average, modifier, msg_start, len(result))\n"
     ]
    }
   ],
   "source": [
    "model =  MLPClassifier(hidden_layer_sizes=(150,100,50), random_state=40)\n",
    "results_mlp = cross_validation(model, x, y, _cv=5)"
   ]
  },
  {
   "cell_type": "code",
   "execution_count": 20,
   "metadata": {},
   "outputs": [
    {
     "data": {
      "text/plain": [
       "{'Validation Accuracy scores': 0.02322913069234139,\n",
       " 'Mean Validation Accuracy': 0.6510717261228509,\n",
       " 'Validation Precision scores': 0.32979587053108783,\n",
       " 'Mean Validation Precision': 0.5685805422647527,\n",
       " 'Validation Recall scores': 0.24975543593238925,\n",
       " 'Mean Validation Recall': 0.2533333333333333,\n",
       " 'Validation F1 scores': 0.2263034891484376,\n",
       " 'Mean Validation F1 Score': 0.27895791612137033}"
      ]
     },
     "execution_count": 20,
     "metadata": {},
     "output_type": "execute_result"
    }
   ],
   "source": [
    "results_mlp"
   ]
  },
  {
   "cell_type": "code",
   "execution_count": null,
   "metadata": {},
   "outputs": [],
   "source": []
  }
 ],
 "metadata": {
  "kernelspec": {
   "display_name": "Python 3.9.7 ('base')",
   "language": "python",
   "name": "python3"
  },
  "language_info": {
   "codemirror_mode": {
    "name": "ipython",
    "version": 3
   },
   "file_extension": ".py",
   "mimetype": "text/x-python",
   "name": "python",
   "nbconvert_exporter": "python",
   "pygments_lexer": "ipython3",
   "version": "3.9.7"
  },
  "orig_nbformat": 4,
  "vscode": {
   "interpreter": {
    "hash": "ad2bdc8ecc057115af97d19610ffacc2b4e99fae6737bb82f5d7fb13d2f2c186"
   }
  }
 },
 "nbformat": 4,
 "nbformat_minor": 2
}
