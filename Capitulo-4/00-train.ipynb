{
 "cells": [
  {
   "cell_type": "code",
   "execution_count": 1,
   "metadata": {},
   "outputs": [
    {
     "name": "stderr",
     "output_type": "stream",
     "text": [
      "Intel(R) Extension for Scikit-learn* enabled (https://github.com/intel/scikit-learn-intelex)\n"
     ]
    },
    {
     "data": {
      "text/plain": [
       "9"
      ]
     },
     "execution_count": 1,
     "metadata": {},
     "output_type": "execute_result"
    }
   ],
   "source": [
    "from sklearnex import patch_sklearn\n",
    "patch_sklearn()\n",
    "import sys\n",
    "sys.path.append('..')\n",
    "import numpy as np\n",
    "import matplotlib.pyplot as plt\n",
    "from sklearn.svm import SVC\n",
    "from sklearn.model_selection import train_test_split\n",
    "from sklearn.metrics import classification_report\n",
    "from sklearn.model_selection import KFold\n",
    "from sklearn.model_selection import cross_val_score\n",
    "import pandas as pd\n",
    "import pathlib\n",
    "import gc\n",
    "gc.collect()\n"
   ]
  },
  {
   "cell_type": "code",
   "execution_count": 2,
   "metadata": {},
   "outputs": [],
   "source": [
    "x = np.load('../dados/Hypercellularity/13.1-final_dataset_200x200_axissumm/x.npy')\n",
    "y = np.load('../dados/Hypercellularity/13.1-final_dataset_200x200_axissumm/y.npy')\n"
   ]
  },
  {
   "cell_type": "code",
   "execution_count": 16,
   "metadata": {},
   "outputs": [
    {
     "data": {
      "image/png": "[encoded data removed]",
      "text/plain": [
       "<Figure size 576x504 with 1 Axes>"
      ]
     },
     "metadata": {
      "needs_background": "light"
     },
     "output_type": "display_data"
    }
   ],
   "source": [
    "w, h = np.unique(y, return_counts=True)\n",
    "freq_series = pd.Series(h)\n",
    "\n",
    "x_labels = [\n",
    "    'Hipercelularidade',\n",
    "    'Normal'\n",
    "]\n",
    "\n",
    "# Plot the figure.\n",
    "plt.figure(figsize=(8, 7))\n",
    "ax = freq_series.plot(kind=\"bar\")\n",
    "ax.set_ylabel(\"Quantidade de Amostras\")\n",
    "ax.set_xticklabels(x_labels,rotation=0);"
   ]
  },
  {
   "cell_type": "code",
   "execution_count": 6,
   "metadata": {},
   "outputs": [],
   "source": [
    "\n",
    "X_train, X_test, y_train, y_test = train_test_split(x, y, test_size=0.33, random_state=42, stratify=y)"
   ]
  },
  {
   "cell_type": "code",
   "execution_count": 8,
   "metadata": {},
   "outputs": [
    {
     "data": {
      "text/plain": [
       "(543, 4320)"
      ]
     },
     "execution_count": 8,
     "metadata": {},
     "output_type": "execute_result"
    }
   ],
   "source": [
    "X_train.shape"
   ]
  },
  {
   "cell_type": "code",
   "execution_count": 10,
   "metadata": {},
   "outputs": [
    {
     "name": "stdout",
     "output_type": "stream",
     "text": [
      "                   precision    recall  f1-score   support\n",
      "\n",
      "           Normal       0.80      0.73      0.77       169\n",
      "Hiperceluraridade       0.60      0.69      0.64        99\n",
      "\n",
      "         accuracy                           0.72       268\n",
      "        macro avg       0.70      0.71      0.70       268\n",
      "     weighted avg       0.73      0.72      0.72       268\n",
      "\n"
     ]
    }
   ],
   "source": [
    "# kernel : {'linear', 'poly', 'rbf', 'sigmoid', 'precomputed'}\n",
    "\n",
    "clf = SVC(kernel='linear',probability=True)\n",
    "clf.fit(X_train, y_train.reshape(-1))\n",
    "y_pred = clf.predict(X_test)\n",
    "y_pred_prob = clf.predict_proba(X_test)\n",
    "\n",
    "print(classification_report(y_test, y_pred, target_names=['Normal', 'Hiperceluraridade']))\n",
    "\n",
    "main_path='../dados/Hypercellularity/'\n",
    "saving_path = pathlib.Path(main_path +'/14.0-predictions_200x200')\n",
    "\n",
    "saving_path.mkdir(parents=True, exist_ok=True)\n",
    "\n",
    "np.save(str(saving_path)+ '/y_test_svc_linear', y_test)\n",
    "np.save(str(saving_path)+ '/y_pred_svc_linear', y_pred_prob)"
   ]
  },
  {
   "cell_type": "code",
   "execution_count": 11,
   "metadata": {},
   "outputs": [
    {
     "name": "stdout",
     "output_type": "stream",
     "text": [
      "                   precision    recall  f1-score   support\n",
      "\n",
      "           Normal       0.63      1.00      0.78       169\n",
      "Hiperceluraridade       1.00      0.01      0.02        99\n",
      "\n",
      "         accuracy                           0.63       268\n",
      "        macro avg       0.82      0.51      0.40       268\n",
      "     weighted avg       0.77      0.63      0.50       268\n",
      "\n"
     ]
    }
   ],
   "source": [
    "clf = SVC(kernel='poly')\n",
    "clf.fit(X_train, y_train.reshape(-1))\n",
    "y_pred = clf.predict(X_test)\n",
    "\n",
    "print(classification_report(y_test, y_pred, target_names=['Normal', 'Hiperceluraridade']))"
   ]
  },
  {
   "cell_type": "code",
   "execution_count": 6,
   "metadata": {},
   "outputs": [
    {
     "name": "stdout",
     "output_type": "stream",
     "text": [
      "                   precision    recall  f1-score   support\n",
      "\n",
      "           Normal       0.63      1.00      0.78       169\n",
      "Hiperceluraridade       1.00      0.01      0.02        99\n",
      "\n",
      "         accuracy                           0.63       268\n",
      "        macro avg       0.82      0.51      0.40       268\n",
      "     weighted avg       0.77      0.63      0.50       268\n",
      "\n"
     ]
    }
   ],
   "source": [
    "clf = SVC(kernel='rbf')\n",
    "clf.fit(X_train, y_train.reshape(-1))\n",
    "y_pred = clf.predict(X_test)\n",
    "\n",
    "print(classification_report(y_test, y_pred, target_names=['Normal', 'Hiperceluraridade']))"
   ]
  },
  {
   "cell_type": "code",
   "execution_count": 12,
   "metadata": {},
   "outputs": [
    {
     "data": {
      "text/plain": [
       "array([0.70935961, 0.6962963 ])"
      ]
     },
     "execution_count": 12,
     "metadata": {},
     "output_type": "execute_result"
    }
   ],
   "source": [
    "\n",
    "clf = SVC(kernel='linear', random_state=42)\n",
    "scores = cross_val_score(clf, x, y.reshape(-1), cv=2)\n",
    "scores"
   ]
  },
  {
   "cell_type": "code",
   "execution_count": 13,
   "metadata": {},
   "outputs": [],
   "source": [
    "from sklearn.neural_network import MLPClassifier\n",
    "from sklearn.decomposition import PCA"
   ]
  },
  {
   "cell_type": "code",
   "execution_count": 14,
   "metadata": {},
   "outputs": [
    {
     "name": "stdout",
     "output_type": "stream",
     "text": [
      "                   precision    recall  f1-score   support\n",
      "\n",
      "           Normal       0.71      0.81      0.76       169\n",
      "Hiperceluraridade       0.57      0.43      0.49        99\n",
      "\n",
      "         accuracy                           0.67       268\n",
      "        macro avg       0.64      0.62      0.63       268\n",
      "     weighted avg       0.66      0.67      0.66       268\n",
      "\n"
     ]
    }
   ],
   "source": [
    "clf = MLPClassifier()\n",
    "clf.fit(X_train, y_train.reshape(-1))\n",
    "y_pred = clf.predict(X_test)\n",
    "y_pred_prob = clf.predict_proba(X_test)\n",
    "\n",
    "main_path='../dados/Hypercellularity/'\n",
    "saving_path = pathlib.Path(main_path +'/14.0-predictions_200x200')\n",
    "\n",
    "saving_path.mkdir(parents=True, exist_ok=True)\n",
    "\n",
    "np.save(str(saving_path)+ '/y_test_mlp', y_test)\n",
    "np.save(str(saving_path)+ '/y_pred_mlp', y_pred_prob)\n",
    "\n",
    "print(classification_report(y_test, y_pred, target_names=['Normal', 'Hiperceluraridade']))"
   ]
  },
  {
   "cell_type": "code",
   "execution_count": 16,
   "metadata": {},
   "outputs": [
    {
     "data": {
      "text/plain": [
       "812"
      ]
     },
     "execution_count": 16,
     "metadata": {},
     "output_type": "execute_result"
    }
   ],
   "source": [
    "del pca\n",
    "del x_pac\n",
    "gc.collect()"
   ]
  },
  {
   "cell_type": "code",
   "execution_count": 17,
   "metadata": {},
   "outputs": [],
   "source": [
    "pca = PCA(n_components=2)\n",
    "x_pac = pca.fit_transform(x)"
   ]
  },
  {
   "cell_type": "code",
   "execution_count": 18,
   "metadata": {},
   "outputs": [
    {
     "name": "stdout",
     "output_type": "stream",
     "text": [
      "[0.21370814 0.0308028 ]\n",
      "[45.66682915 17.33745739]\n"
     ]
    },
    {
     "data": {
      "text/plain": [
       "(811, 2)"
      ]
     },
     "execution_count": 18,
     "metadata": {},
     "output_type": "execute_result"
    }
   ],
   "source": [
    "print(pca.explained_variance_ratio_)\n",
    "print(pca.singular_values_)\n",
    "x_pac.shape"
   ]
  },
  {
   "cell_type": "code",
   "execution_count": 19,
   "metadata": {},
   "outputs": [
    {
     "data": {
      "text/plain": [
       "array([0.63546798, 0.68148148])"
      ]
     },
     "execution_count": 19,
     "metadata": {},
     "output_type": "execute_result"
    }
   ],
   "source": [
    "clf = MLPClassifier(random_state=42)\n",
    "scores = cross_val_score(clf, x_pac, y.reshape(-1), cv=2)\n",
    "scores"
   ]
  }
 ],
 "metadata": {
  "kernelspec": {
   "display_name": "Python 3.10.4 64-bit ('3.10.4')",
   "language": "python",
   "name": "python3"
  },
  "language_info": {
   "codemirror_mode": {
    "name": "ipython",
    "version": 3
   },
   "file_extension": ".py",
   "mimetype": "text/x-python",
   "name": "python",
   "nbconvert_exporter": "python",
   "pygments_lexer": "ipython3",
   "version": "3.10.4"
  },
  "orig_nbformat": 4,
  "vscode": {
   "interpreter": {
    "hash": "56c229f379aab8a4ce5099aa8ab2b29787fc7baf268439adb20093fb198b626f"
   }
  }
 },
 "nbformat": 4,
 "nbformat_minor": 2
}
